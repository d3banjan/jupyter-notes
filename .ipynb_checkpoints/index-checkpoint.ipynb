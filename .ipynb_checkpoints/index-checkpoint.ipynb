{
 "metadata": {
  "name": "",
  "signature": "sha256:ff27b6af57c44e1378e862bde11bd4f709cd52d9bad4993258c332f3aea18270"
 },
 "nbformat": 3,
 "nbformat_minor": 0,
 "worksheets": [
  {
   "cells": [
    {
     "cell_type": "markdown",
     "metadata": {},
     "source": [
      "### tag based organization\n",
      "My notes are organized by tags."
     ]
    },
    {
     "cell_type": "markdown",
     "metadata": {},
     "source": [
      "### a list of tags \n",
      "I decided on a two level tag system. Hope the following list is self explanatory."
     ]
    },
    {
     "cell_type": "code",
     "collapsed": false,
     "input": [
      "import json\n",
      "from pprint import pprint\n",
      "with open('tags.json') as tags_jsonfile:\n",
      "    tags_data=json.load(tags_jsonfile)\n",
      "#pprint(tags_data)"
     ],
     "language": "python",
     "metadata": {},
     "outputs": [],
     "prompt_number": 80
    },
    {
     "cell_type": "code",
     "collapsed": false,
     "input": [
      "from IPython.core.display import HTML,display\n",
      "HTML_string=\"\"\n",
      "HTML_string+=\"<ol>\"\n",
      "for subject in tags_data[u'subjects']:\n",
      "    HTML_string+=\"<li>\"+subject[\"id\"]+\"</li>\"\n",
      "    HTML_string+=\"<ol>\"\n",
      "    for topic in subject[\"topics\"]:        \n",
      "        HTML_string+=\"<li>\"+topic[\"id\"]+\"</li>\"\n",
      "        HTML_string+=\"<ol>\"            \n",
      "        for subtopic in topic[\"subtopics\"]:\n",
      "            HTML_string+=\"<li>\"+subtopic[\"id\"]+\"</li>\"\n",
      "        if HTML_string[-4:]==\"<ol>\":\n",
      "            HTML_string=HTML_string[:-4]\n",
      "        else:\n",
      "            HTML_string+=\"</ol>\"\n",
      "    if HTML_string[-4:]==\"<ol>\":\n",
      "        HTML_string=HTML_string[:-4]\n",
      "    else:\n",
      "        HTML_string+=\"</ol>\"\n",
      "if HTML_string[-4:]==\"<ol>\":\n",
      "    HTML_string=HTML_string[:-4]\n",
      "else:\n",
      "    HTML_string+=\"</ol>\"          \n",
      "HTML(HTML_string)"
     ],
     "language": "python",
     "metadata": {},
     "outputs": [
      {
       "html": [
        "<ol><li>Physics</li><ol><li>Classical Mechanics</li><li>Electromagnetism</li><li>Quantum Mechanics</li><li>Condensed Matter Physics</li><li>Density Functional Theory</li></ol><li>Mathematics</li><ol><li>Groups</li><li>Linear Algebra</li></ol><li>Programming</li><ol><li>Bash</li><li>Fortran</li><li>Gnuplot</li><li>Python</li><ol><li>Vanilla Python</li><li>Matplotlib</li><li>Mayavi</li></ol></ol></ol>"
       ],
       "metadata": {},
       "output_type": "pyout",
       "prompt_number": 81,
       "text": [
        "<IPython.core.display.HTML at 0x7f85885f8b90>"
       ]
      }
     ],
     "prompt_number": 81
    }
   ],
   "metadata": {}
  }
 ]
}